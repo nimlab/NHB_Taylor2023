{
 "cells": [
  {
   "cell_type": "markdown",
   "metadata": {},
   "source": [
    "Make ROI Spheres from Coordinates"
   ]
  },
  {
   "cell_type": "code",
   "execution_count": null,
   "metadata": {},
   "outputs": [],
   "source": [
    "from nilearn import image\n",
    "import numpy as np\n",
    "import pandas as pd\n",
    "from numpy.linalg import inv\n",
    "from tqdm import tqdm\n",
    "from glob import glob\n",
    "from nimlab import datasets"
   ]
  },
  {
   "cell_type": "markdown",
   "metadata": {},
   "source": [
    "By default, this notebook assumes that the coordinates list is in MNI space. If it is already in voxel space, \n",
    "add `voxel_coord = True` to the call to `make_spheres` in the last cell "
   ]
  },
  {
   "cell_type": "markdown",
   "metadata": {},
   "source": [
    "Load source dataframe\n",
    "---"
   ]
  },
  {
   "cell_type": "code",
   "execution_count": null,
   "metadata": {},
   "outputs": [],
   "source": [
    "src_df = pd.read_csv('./my_coords.csv')\n",
    "src_df.head()"
   ]
  },
  {
   "cell_type": "markdown",
   "metadata": {},
   "source": [
    "Specify which columns in the csv file to use as subject identifiers and coordinates in the dataframe:"
   ]
  },
  {
   "cell_type": "code",
   "execution_count": null,
   "metadata": {},
   "outputs": [],
   "source": [
    "coord_df = pd.DataFrame({\n",
    "    'subject_id': src_df['subject_id'],\n",
    "    'mni_x': src_df['mni_x'],\n",
    "    'mni_y': src_df['mni_y'],\n",
    "    'mni_z': src_df['mni_z'],\n",
    "})\n",
    "\n",
    "coord_df.head()"
   ]
  },
  {
   "cell_type": "code",
   "execution_count": null,
   "metadata": {},
   "outputs": [],
   "source": [
    "def create_bin_sphere(arr_size, center, r):\n",
    "    # https://stackoverflow.com/questions/53326570/how-to-create-sphere-inside-a-ndarray-python?noredirect=1&lq=1\n",
    "    coords = np.ogrid[:arr_size[0], :arr_size[1], :arr_size[2]]\n",
    "    distance = np.sqrt((coords[0] - center[0])**2 + (coords[1]-center[1])**2 + (coords[2]-center[2])**2) \n",
    "    return 1*(distance <= r)\n",
    "\n",
    "def make_sphere(coord, brain_mask, radius, voxel_coord = False):\n",
    "    #Transform from MNI coordinates to voxelwise(matrix) coords\n",
    "    if voxel_coord == False:\n",
    "        inv_affine = inv(brain_mask.affine)\n",
    "        \n",
    "        trans_raw_coord = image.coord_transform(coord[0], coord[1], coord[2], inv_affine)\n",
    "        trans_coord = round(trans_raw_coord[0]), round(trans_raw_coord[1]), round(trans_raw_coord[2])\n",
    "\n",
    "    else:\n",
    "        trans_coord = coord\n",
    "\n",
    "    bin_sphere = create_bin_sphere(brain_mask.shape, trans_coord, radius)\n",
    "    sphere_img = image.new_img_like(brain_mask, bin_sphere)\n",
    "    return sphere_img\n",
    "    "
   ]
  },
  {
   "cell_type": "markdown",
   "metadata": {},
   "source": [
    "Input required here:\n",
    "---"
   ]
  },
  {
   "cell_type": "code",
   "execution_count": null,
   "metadata": {},
   "outputs": [],
   "source": [
    "# Specify output directory:\n",
    "outdir = './output_folder'\n",
    "\n",
    "# Specify radius in voxels (NOT millimeters):\n",
    "radius = 2\n",
    "\n",
    "# Specify MNI brain mask to get affine transfrom from:\n",
    "mni_brain = './MNI152_T1_2mm_brain_mask_dil.nii.gz'\n",
    "\n",
    "for c in tqdm(coord_df.itertuples()):\n",
    "\n",
    "    sphere = make_sphere((c.mni_x, c.mni_y, c.mni_z), mni_brain, radius)\n",
    "    sphere.to_filename(outdir + '/' + c.subject_id + \n",
    "                       '_' + str(c.mni_x).replace('.','d') + \n",
    "                       '_' + str(c.mni_y).replace('.','d') + \n",
    "                       '_' + str(c.mni_z).replace('.','d') + \n",
    "                       '.nii.gz')"
   ]
  }
 ],
 "metadata": {
  "kernelspec": {
   "display_name": "Python 3",
   "language": "python",
   "name": "python3"
  },
  "language_info": {
   "codemirror_mode": {
    "name": "ipython",
    "version": 3
   },
   "file_extension": ".py",
   "mimetype": "text/x-python",
   "name": "python",
   "nbconvert_exporter": "python",
   "pygments_lexer": "ipython3",
   "version": "3.6.15"
  },
  "vscode": {
   "interpreter": {
    "hash": "50ebc0567766505c25bec5ab8c2622a72723f191e8de09c0f8ddead50349b3df"
   }
  }
 },
 "nbformat": 4,
 "nbformat_minor": 4
}
